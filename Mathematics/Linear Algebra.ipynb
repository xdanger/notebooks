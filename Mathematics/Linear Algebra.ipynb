{
 "cells": [
  {
   "cell_type": "code",
   "execution_count": 1,
   "metadata": {},
   "outputs": [],
   "source": [
    "#from mpmath import *\n",
    "#from sympy import *\n",
    "#from sympy.plotting import plot\n",
    "import matplotlib.pyplot as plt\n",
    "import matplotlib as mpl\n",
    "import numpy as np\n",
    "#x, y, z, t = symbols('x y z t')\n",
    "#k, m, n = symbols('k m n', integer=True)\n",
    "#f, g, h = symbols('f g h', cls=Function)\n",
    "#init_printing()\n",
    "#import IPython.display\n",
    "#IPython.display.set_matplotlib_formats('retina')\n",
    "#%matplotlib inline\n",
    "%config InlineBackend.figure_format = 'svg'"
   ]
  },
  {
   "cell_type": "code",
   "execution_count": 2,
   "metadata": {},
   "outputs": [],
   "source": [
    "import matplotlib.cbook as cbook\n",
    "from mpl_toolkits.axisartist import Subplot\n",
    "from mpl_toolkits.axisartist import SubplotHost, ParasiteAxesAuxTrans\n",
    "from mpl_toolkits.axisartist.grid_helper_curvelinear import GridHelperCurveLinear\n",
    "import mpl_toolkits.axisartist.angle_helper as angle_helper\n",
    "from matplotlib.projections import PolarAxes\n",
    "from matplotlib.transforms import Affine2D"
   ]
  },
  {
   "cell_type": "markdown",
   "metadata": {},
   "source": [
    "## Chapter 3 - Linear transformations"
   ]
  },
  {
   "cell_type": "markdown",
   "metadata": {},
   "source": [
    "### $2\\times2\\text{ Matrix}\"$\n",
    "\n",
    "$\n",
    "\\begin{bmatrix}a & b \\\\ c & d\\end{bmatrix}\\begin{bmatrix}x \\\\ y\\end{bmatrix}\n",
    "= x\\begin{bmatrix}a \\\\ c\\end{bmatrix} + y\\begin{bmatrix}b \\\\ d\\end{bmatrix}\n",
    "= \\begin{bmatrix}ax + by \\\\ cx + dy\\end{bmatrix}\n",
    "$\n",
    "\n",
    "$\n",
    "\\begin{bmatrix}a & b \\\\ c & d\\end{bmatrix} = \\begin{bmatrix} 1 & 3 \\\\ 2 & 1 \\end{bmatrix}\n",
    "$\n",
    "\n",
    "$\n",
    "\\begin{bmatrix} 1 & 3 \\\\ 2 & 1 \\end{bmatrix}\n",
    "\\begin{bmatrix} x \\\\ y \\end{bmatrix}\n",
    "= x \\begin{bmatrix} 1 \\\\ 2 \\end{bmatrix} + y \\begin{bmatrix} 3 \\\\ 1 \\end{bmatrix}\n",
    "= \\begin{bmatrix} x + 3y \\\\ 2x + y \\end{bmatrix}\n",
    "$"
   ]
  },
  {
   "cell_type": "code",
   "execution_count": null,
   "metadata": {},
   "outputs": [],
   "source": [
    "def curvelinear_test1(fig):\n",
    "    \n",
    "    def trans(x, y):\n",
    "        x, y = np.asarray(x), np.asarray(y)\n",
    "        return x + 3*y, 2*x + y\n",
    "\n",
    "    def trans_inv(x, y):\n",
    "        x, y = np.asarray(x), np.asarray(y)\n",
    "        return x - 3*y, (x - y)/2\n",
    "\n",
    "#    ax1 = Subplot(fig, 1, 2, 1, grid_helper=GridHelperCurveLinear((trans, trans_inv)))\n",
    "    ax1 = Subplot(fig, 1, 2, 1)\n",
    "    # ax1 will have a ticks and gridlines defined by the given\n",
    "    # transform (+ transData of the Axes). Note that the transform of\n",
    "    # the Axes itself (i.e., transData) is not affected by the given\n",
    "    # transform.\n",
    "\n",
    "    fig.add_subplot(ax1)\n",
    "\n",
    "    xx, yy = trans([3, 6], [5.0, 10.])\n",
    "#    display('yy: {0}'.format(yy))\n",
    "#    ax1.plot(xx, yy, 'r-', linewidth=2.0)\n",
    "\n",
    "    ax1.set_aspect(1.)\n",
    "#    ax1.set_xlim(-100., 100.)\n",
    "#    ax1.set_ylim(-100., 100.)\n",
    "\n",
    "#    ax1.axis[\"t1\"] = ax1.new_floating_axis(0, 3.)\n",
    "#    ax1.axis[\"t2\"] = ax1.new_floating_axis(1, 7.)\n",
    "#    ax1.grid(which='both')\n",
    "    major_ticks = np.arange(0, 101, 20)\n",
    "    minor_ticks = np.arange(0, 101, 5)\n",
    "\n",
    "    ax1.set_xticks(major_ticks)\n",
    "    ax1.set_xticks(minor_ticks, minor=True)\n",
    "    ax1.set_yticks(major_ticks)\n",
    "    ax1.set_yticks(minor_ticks, minor=True)\n",
    "    ax1.grid(which='major', axis='both', alpha=0.5, ls='--')\n",
    "#    ax1.grid(which='minor', axis='both', alpha=0.1)\n",
    "#    ax1.legend(loc='best')\n",
    "if 1:\n",
    "    fig = plt.figure(1, figsize=(10, 10))\n",
    "    fig.clf()\n",
    "\n",
    "    curvelinear_test1(fig)\n",
    "#    curvelinear_test2(fig)\n",
    "\n",
    "    plt.show()"
   ]
  },
  {
   "cell_type": "markdown",
   "metadata": {},
   "source": []
  },
  {
   "cell_type": "code",
   "execution_count": null,
   "metadata": {},
   "outputs": [],
   "source": []
  }
 ],
 "metadata": {
  "kernelspec": {
   "display_name": "Python 3",
   "language": "python",
   "name": "python3"
  },
  "language_info": {
   "codemirror_mode": {
    "name": "ipython",
    "version": 3
   },
   "file_extension": ".py",
   "mimetype": "text/x-python",
   "name": "python",
   "nbconvert_exporter": "python",
   "pygments_lexer": "ipython3",
   "version": "3.7.0"
  }
 },
 "nbformat": 4,
 "nbformat_minor": 2
}
