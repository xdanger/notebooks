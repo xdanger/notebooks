{
 "cells": [
  {
   "cell_type": "code",
   "execution_count": 1,
   "metadata": {},
   "outputs": [],
   "source": [
    "#from mpmath import *\n",
    "#from sympy import *\n",
    "#from sympy.plotting import plot\n",
    "import matplotlib.pyplot as plt\n",
    "import matplotlib as mpl\n",
    "import numpy as np\n",
    "#x, y, z, t = symbols('x y z t')\n",
    "#k, m, n = symbols('k m n', integer=True)\n",
    "#f, g, h = symbols('f g h', cls=Function)\n",
    "#init_printing()\n",
    "#import IPython.display\n",
    "#IPython.display.set_matplotlib_formats('retina')\n",
    "#%matplotlib inline\n",
    "%config InlineBackend.figure_format = 'svg'"
   ]
  },
  {
   "cell_type": "code",
   "execution_count": 2,
   "metadata": {},
   "outputs": [],
   "source": [
    "import matplotlib.cbook as cbook\n",
    "from mpl_toolkits.axisartist import Subplot\n",
    "from mpl_toolkits.axisartist import SubplotHost, ParasiteAxesAuxTrans\n",
    "from mpl_toolkits.axisartist.grid_helper_curvelinear import GridHelperCurveLinear\n",
    "import mpl_toolkits.axisartist.angle_helper as angle_helper\n",
    "from matplotlib.projections import PolarAxes\n",
    "from matplotlib.transforms import Affine2D"
   ]
  },
  {
   "cell_type": "markdown",
   "metadata": {},
   "source": [
    "## Chapter 3 - Linear transformations"
   ]
  },
  {
   "cell_type": "markdown",
   "metadata": {},
   "source": [
    "### $2\\times2\\text{ Matrix}\"$\n",
    "\n",
    "$\n",
    "\\begin{bmatrix}a & b \\\\ c & d\\end{bmatrix}\\begin{bmatrix}x \\\\ y\\end{bmatrix}\n",
    "= x\\begin{bmatrix}a \\\\ c\\end{bmatrix} + y\\begin{bmatrix}b \\\\ d\\end{bmatrix}\n",
    "= \\begin{bmatrix}ax + by \\\\ cx + dy\\end{bmatrix}\n",
    "$\n",
    "\n",
    "$\n",
    "\\begin{bmatrix}a & b \\\\ c & d\\end{bmatrix} = \\begin{bmatrix} 1 & 3 \\\\ 2 & 1 \\end{bmatrix}\n",
    "$\n",
    "\n",
    "$\n",
    "\\begin{bmatrix} 1 & 3 \\\\ 2 & 1 \\end{bmatrix}\n",
    "\\begin{bmatrix} x \\\\ y \\end{bmatrix}\n",
    "= x \\begin{bmatrix} 1 \\\\ 2 \\end{bmatrix} + y \\begin{bmatrix} 3 \\\\ 1 \\end{bmatrix}\n",
    "= \\begin{bmatrix} x + 3y \\\\ 2x + y \\end{bmatrix}\n",
    "$"
   ]
  },
  {
   "cell_type": "code",
   "execution_count": 25,
   "metadata": {},
   "outputs": [
    {
     "ename": "TypeError",
     "evalue": "'NoneType' object is not subscriptable",
     "output_type": "error",
     "traceback": [
      "\u001b[0;31m---------------------------------------------------------------------------\u001b[0m",
      "\u001b[0;31mTypeError\u001b[0m                                 Traceback (most recent call last)",
      "\u001b[0;32m<ipython-input-25-06d46b9e5fb0>\u001b[0m in \u001b[0;36m<module>\u001b[0;34m()\u001b[0m\n\u001b[1;32m     38\u001b[0m \u001b[0;32mif\u001b[0m \u001b[0;36m1\u001b[0m\u001b[0;34m:\u001b[0m\u001b[0;34m\u001b[0m\u001b[0m\n\u001b[1;32m     39\u001b[0m     \u001b[0mfig\u001b[0m \u001b[0;34m=\u001b[0m \u001b[0mplt\u001b[0m\u001b[0;34m.\u001b[0m\u001b[0mfigure\u001b[0m\u001b[0;34m(\u001b[0m\u001b[0;36m1\u001b[0m\u001b[0;34m,\u001b[0m \u001b[0mfigsize\u001b[0m\u001b[0;34m=\u001b[0m\u001b[0;34m(\u001b[0m\u001b[0;36m5\u001b[0m\u001b[0;34m,\u001b[0m \u001b[0;36m5\u001b[0m\u001b[0;34m)\u001b[0m\u001b[0;34m)\u001b[0m\u001b[0;34m\u001b[0m\u001b[0m\n\u001b[0;32m---> 40\u001b[0;31m     \u001b[0mcurvelinear_test1\u001b[0m\u001b[0;34m(\u001b[0m\u001b[0mfig\u001b[0m\u001b[0;34m)\u001b[0m\u001b[0;34m\u001b[0m\u001b[0m\n\u001b[0m\u001b[1;32m     41\u001b[0m \u001b[0;31m#    curvelinear_test2(fig)\u001b[0m\u001b[0;34m\u001b[0m\u001b[0;34m\u001b[0m\u001b[0m\n\u001b[1;32m     42\u001b[0m     \u001b[0mplt\u001b[0m\u001b[0;34m.\u001b[0m\u001b[0mshow\u001b[0m\u001b[0;34m(\u001b[0m\u001b[0;34m)\u001b[0m\u001b[0;34m\u001b[0m\u001b[0m\n",
      "\u001b[0;32m<ipython-input-25-06d46b9e5fb0>\u001b[0m in \u001b[0;36mcurvelinear_test1\u001b[0;34m(fig)\u001b[0m\n\u001b[1;32m     11\u001b[0m     \u001b[0mgrid_helper\u001b[0m \u001b[0;34m=\u001b[0m \u001b[0mGridHelperCurveLinear\u001b[0m\u001b[0;34m(\u001b[0m\u001b[0;34m(\u001b[0m\u001b[0mtrans\u001b[0m\u001b[0;34m,\u001b[0m \u001b[0mtrans_inv\u001b[0m\u001b[0;34m)\u001b[0m\u001b[0;34m)\u001b[0m\u001b[0;34m\u001b[0m\u001b[0m\n\u001b[1;32m     12\u001b[0m \u001b[0;34m\u001b[0m\u001b[0m\n\u001b[0;32m---> 13\u001b[0;31m     \u001b[0mgridlines\u001b[0m \u001b[0;34m=\u001b[0m \u001b[0mgrid_helper\u001b[0m\u001b[0;34m.\u001b[0m\u001b[0mget_gridlines\u001b[0m\u001b[0;34m(\u001b[0m\u001b[0mwhich\u001b[0m\u001b[0;34m=\u001b[0m\u001b[0;34m'minor'\u001b[0m\u001b[0;34m,\u001b[0m \u001b[0maxis\u001b[0m\u001b[0;34m=\u001b[0m\u001b[0;34m'both'\u001b[0m\u001b[0;34m)\u001b[0m\u001b[0;34m\u001b[0m\u001b[0m\n\u001b[0m\u001b[1;32m     14\u001b[0m \u001b[0;34m\u001b[0m\u001b[0m\n\u001b[1;32m     15\u001b[0m     \u001b[0max1\u001b[0m \u001b[0;34m=\u001b[0m \u001b[0mSubplot\u001b[0m\u001b[0;34m(\u001b[0m\u001b[0mfig\u001b[0m\u001b[0;34m,\u001b[0m \u001b[0;36m1\u001b[0m\u001b[0;34m,\u001b[0m \u001b[0;36m1\u001b[0m\u001b[0;34m,\u001b[0m \u001b[0;36m1\u001b[0m\u001b[0;34m,\u001b[0m \u001b[0mgrid_helper\u001b[0m\u001b[0;34m=\u001b[0m\u001b[0mgrid_helper\u001b[0m\u001b[0;34m)\u001b[0m\u001b[0;34m\u001b[0m\u001b[0m\n",
      "\u001b[0;32m/anaconda3/lib/python3.7/site-packages/mpl_toolkits/axisartist/grid_helper_curvelinear.py\u001b[0m in \u001b[0;36mget_gridlines\u001b[0;34m(self, which, axis)\u001b[0m\n\u001b[1;32m    443\u001b[0m \u001b[0;34m\u001b[0m\u001b[0m\n\u001b[1;32m    444\u001b[0m         \u001b[0;32mif\u001b[0m \u001b[0maxis\u001b[0m \u001b[0;32min\u001b[0m \u001b[0;34m[\u001b[0m\u001b[0;34m\"both\"\u001b[0m\u001b[0;34m,\u001b[0m \u001b[0;34m\"x\"\u001b[0m\u001b[0;34m]\u001b[0m\u001b[0;34m:\u001b[0m\u001b[0;34m\u001b[0m\u001b[0m\n\u001b[0;32m--> 445\u001b[0;31m             \u001b[0;32mfor\u001b[0m \u001b[0mgl\u001b[0m \u001b[0;32min\u001b[0m \u001b[0mself\u001b[0m\u001b[0;34m.\u001b[0m\u001b[0mgrid_info\u001b[0m\u001b[0;34m[\u001b[0m\u001b[0;34m\"lon\"\u001b[0m\u001b[0;34m]\u001b[0m\u001b[0;34m[\u001b[0m\u001b[0;34m\"lines\"\u001b[0m\u001b[0;34m]\u001b[0m\u001b[0;34m:\u001b[0m\u001b[0;34m\u001b[0m\u001b[0m\n\u001b[0m\u001b[1;32m    446\u001b[0m                 \u001b[0mgrid_lines\u001b[0m\u001b[0;34m.\u001b[0m\u001b[0mextend\u001b[0m\u001b[0;34m(\u001b[0m\u001b[0mgl\u001b[0m\u001b[0;34m)\u001b[0m\u001b[0;34m\u001b[0m\u001b[0m\n\u001b[1;32m    447\u001b[0m         \u001b[0;32mif\u001b[0m \u001b[0maxis\u001b[0m \u001b[0;32min\u001b[0m \u001b[0;34m[\u001b[0m\u001b[0;34m\"both\"\u001b[0m\u001b[0;34m,\u001b[0m \u001b[0;34m\"y\"\u001b[0m\u001b[0;34m]\u001b[0m\u001b[0;34m:\u001b[0m\u001b[0;34m\u001b[0m\u001b[0m\n",
      "\u001b[0;31mTypeError\u001b[0m: 'NoneType' object is not subscriptable"
     ]
    },
    {
     "data": {
      "text/plain": [
       "<Figure size 360x360 with 0 Axes>"
      ]
     },
     "metadata": {},
     "output_type": "display_data"
    }
   ],
   "source": [
    "def curvelinear_test1(fig):\n",
    "    \n",
    "    def trans(x, y):\n",
    "        x, y = np.asarray(x), np.asarray(y)\n",
    "        return x + 3*y, 2*x + y\n",
    "\n",
    "    def trans_inv(x, y):\n",
    "        x, y = np.asarray(x), np.asarray(y)\n",
    "        return x - 3*y, (x - y)/2\n",
    "    \n",
    "    grid_helper = GridHelperCurveLinear((trans, trans_inv))\n",
    "    \n",
    "    gridlines = grid_helper.get_gridlines(which='minor', axis='both')\n",
    "\n",
    "    ax1 = Subplot(fig, 1, 1, 1, grid_helper=grid_helper)\n",
    "#    ax1 = Subplot(fig, 1, 1, 1)\n",
    "    fig.add_subplot(ax1)\n",
    "    xx, yy = trans([3, 6], [5.0, 10.])\n",
    "    display('yy: {0}'.format(yy))\n",
    "    ax1.plot(xx, yy, 'r-', linewidth=2.0)\n",
    "\n",
    "    ax1.set_aspect(1.)\n",
    "    ax1.set_xlim(0, 100)\n",
    "    ax1.set_ylim(0, 100)\n",
    "\n",
    "#    ax1.axis[\"t1\"] = ax1.new_floating_axis(0, 3.)\n",
    "#    ax1.axis[\"t2\"] = ax1.new_floating_axis(1, 7.)\n",
    "    major_ticks = np.arange(0, 101, 20)\n",
    "    minor_ticks = np.arange(0, 101, 5)\n",
    "    ax1.set_xticks(major_ticks)\n",
    "    ax1.set_xticks(minor_ticks, minor=True)\n",
    "    ax1.set_yticks(major_ticks)\n",
    "    ax1.set_yticks(minor_ticks, minor=True)\n",
    "    ax1.grid(which='minor', axis='both', alpha=0.2, linestyle='--', linewidth=.5)\n",
    "#    ax1.grid(which='major', axis='both', alpha=0.5, linestyle='-', linewidth=.5)\n",
    "#    ax1.legend(loc='best')\n",
    "    return ax1\n",
    "if 1:\n",
    "    fig = plt.figure(1, figsize=(5, 5))\n",
    "    curvelinear_test1(fig)\n",
    "#    curvelinear_test2(fig)\n",
    "    plt.show()"
   ]
  },
  {
   "cell_type": "markdown",
   "metadata": {},
   "source": []
  },
  {
   "cell_type": "code",
   "execution_count": null,
   "metadata": {},
   "outputs": [],
   "source": []
  }
 ],
 "metadata": {
  "kernelspec": {
   "display_name": "Python 3",
   "language": "python",
   "name": "python3"
  },
  "language_info": {
   "codemirror_mode": {
    "name": "ipython",
    "version": 3
   },
   "file_extension": ".py",
   "mimetype": "text/x-python",
   "name": "python",
   "nbconvert_exporter": "python",
   "pygments_lexer": "ipython3",
   "version": "3.7.0"
  }
 },
 "nbformat": 4,
 "nbformat_minor": 2
}
