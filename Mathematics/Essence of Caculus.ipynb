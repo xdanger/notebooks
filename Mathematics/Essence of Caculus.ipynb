{
 "cells": [
  {
   "cell_type": "code",
   "execution_count": 1,
   "metadata": {},
   "outputs": [],
   "source": [
    "from sympy import *\n",
    "from mpmath import *\n",
    "from sympy.plotting import plot\n",
    "x, y, z, t = symbols('x y z t')\n",
    "k, m, n = symbols('k m n', integer=True)\n",
    "f, g, h = symbols('f g h', cls=Function)\n",
    "init_printing()"
   ]
  },
  {
   "cell_type": "markdown",
   "metadata": {},
   "source": [
    "## Chapter 1\n",
    "\n",
    "\n",
    "\n",
    "from [3Blue1Brown](https://www.youtube.com/watch?v=WUvTyaaNkzM&list=PLZHQObOWTQDMsr9K-rj53DwVRMYO3t5Yr)"
   ]
  },
  {
   "cell_type": "markdown",
   "metadata": {},
   "source": [
    "### 圆形"
   ]
  },
  {
   "cell_type": "code",
   "execution_count": 2,
   "metadata": {},
   "outputs": [
    {
     "name": "stdout",
     "output_type": "stream",
     "text": [
      "我们学到的圆形公式\n"
     ]
    },
    {
     "data": {
      "image/png": "[encoded data removed]",
      "text/latex": [
       "$$A = 3.14159265358979 R^{2}$$"
      ],
      "text/plain": [
       "                      2\n",
       "A = 3.14159265358979⋅R "
      ]
     },
     "execution_count": 2,
     "metadata": {},
     "output_type": "execute_result"
    }
   ],
   "source": [
    "A, r, R = symbols('A, r R')\n",
    "print(\"我们学到的圆形公式\")\n",
    "relational.Eq(A, pi * R**2)"
   ]
  },
  {
   "cell_type": "code",
   "execution_count": 3,
   "metadata": {},
   "outputs": [
    {
     "name": "stdout",
     "output_type": "stream",
     "text": [
      "积分形式表达式\n"
     ]
    },
    {
     "data": {
      "image/png": "[encoded data removed]",
      "text/latex": [
       "$$A = \\int_{0}^{R} 6.28318530717959 r\\, dr$$"
      ],
      "text/plain": [
       "    R                      \n",
       "    ⌠                      \n",
       "A = ⎮ 6.28318530717959⋅r dr\n",
       "    ⌡                      \n",
       "    0                      "
      ]
     },
     "execution_count": 3,
     "metadata": {},
     "output_type": "execute_result"
    }
   ],
   "source": [
    "print(\"积分形式表达式\")\n",
    "integratal_expr = Integral(2*pi*r, [r, 0, R])\n",
    "relational.Eq(A, integratal_expr)"
   ]
  },
  {
   "cell_type": "code",
   "execution_count": 4,
   "metadata": {},
   "outputs": [
    {
     "name": "stdout",
     "output_type": "stream",
     "text": [
      "结果是\n"
     ]
    },
    {
     "data": {
      "image/png": "[encoded data removed]",
      "text/latex": [
       "$$A = \\int_{0}^{R} 6.28318530717959 r\\, dr = 3.14159265358979 R^{2}$$"
      ],
      "text/plain": [
       "    R                                            \n",
       "    ⌠                                           2\n",
       "A = ⎮ 6.28318530717959⋅r dr = 3.14159265358979⋅R \n",
       "    ⌡                                            \n",
       "    0                                            "
      ]
     },
     "execution_count": 4,
     "metadata": {},
     "output_type": "execute_result"
    }
   ],
   "source": [
    "print(\"结果是\")\n",
    "relational.Eq(A, relational.Eq(integratal_expr, integratal_expr.doit()))"
   ]
  },
  {
   "cell_type": "markdown",
   "metadata": {},
   "source": [
    "### 曲线"
   ]
  },
  {
   "cell_type": "code",
   "execution_count": 5,
   "metadata": {},
   "outputs": [
    {
     "name": "stdout",
     "output_type": "stream",
     "text": [
      "A(X) = ?\n"
     ]
    },
    {
     "data": {
      "image/png": "[encoded data removed]",
      "text/latex": [
       "$$A = \\int x^{2}\\, dx = \\frac{x^{3}}{3}$$"
      ],
      "text/plain": [
       "    ⌠          3\n",
       "    ⎮  2      x \n",
       "A = ⎮ x  dx = ──\n",
       "    ⌡         3 "
      ]
     },
     "execution_count": 5,
     "metadata": {},
     "output_type": "execute_result"
    }
   ],
   "source": [
    "X, Y, Z = symbols('X, Y, Z')\n",
    "print(\"A(X) = ?\")\n",
    "integratal_expr = Integral(x**2)\n",
    "relational.Eq(A, relational.Eq(integratal_expr, integratal_expr.doit()))"
   ]
  },
  {
   "cell_type": "code",
   "execution_count": 7,
   "metadata": {},
   "outputs": [
    {
     "name": "stdout",
     "output_type": "stream",
     "text": [
      "A(x) 的曲线是\n"
     ]
    },
    {
     "data": {
      "image/png": "[encoded data removed]",
      "text/plain": [
       "<Figure size 432x288 with 1 Axes>"
      ]
     },
     "metadata": {
      "needs_background": "light"
     },
     "output_type": "display_data"
    },
    {
     "data": {
      "text/plain": [
       "<sympy.plotting.plot.Plot at 0x7fb4dc389128>"
      ]
     },
     "execution_count": 7,
     "metadata": {},
     "output_type": "execute_result"
    }
   ],
   "source": [
    "print(\"A(x) 的曲线是\")\n",
    "\n",
    "plot(integratal_expr.doit(), x, title=\"A(x)\")"
   ]
  },
  {
   "cell_type": "markdown",
   "metadata": {},
   "source": [
    "----\n",
    "### sympy.relational 中所有的操作符号\n",
    "\n",
    "  - 'Rel', 'Eq', 'Ne', 'Lt', 'Le', 'Gt', 'Ge',\n",
    "  - 'Relational', 'Equality', 'Unequality', 'StrictLessThan', 'LessThan',\n",
    "  - 'StrictGreaterThan', 'GreaterThan',\n"
   ]
  },
  {
   "cell_type": "markdown",
   "metadata": {},
   "source": [
    "## Chapter 2 - Derivative"
   ]
  },
  {
   "cell_type": "code",
   "execution_count": null,
   "metadata": {},
   "outputs": [],
   "source": []
  }
 ],
 "metadata": {
  "kernelspec": {
   "display_name": "Python 3",
   "language": "python",
   "name": "python3"
  },
  "language_info": {
   "codemirror_mode": {
    "name": "ipython",
    "version": 3
   },
   "file_extension": ".py",
   "mimetype": "text/x-python",
   "name": "python",
   "nbconvert_exporter": "python",
   "pygments_lexer": "ipython3",
   "version": "3.7.0"
  }
 },
 "nbformat": 4,
 "nbformat_minor": 2
}
