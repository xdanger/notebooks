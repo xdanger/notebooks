{
 "cells": [
  {
   "cell_type": "markdown",
   "metadata": {
    "collapsed": true
   },
   "source": [
    "## 和$\\pi$有关的\n",
    "\n",
    "###### $$\\lgroup \\sum_{n=1}^\\infty {1 \\over n^2} \\rgroup = \\underbrace{1 + { 1 \\over 4 } + {1 \\over 9} + {1 \\over 16} + {1 \\over 25} + \\cdots = {\\pi^2 \\over 6} = 1.644934\\dots}_{Basel Problem}$$\n",
    "\n",
    "###### $$\\lgroup \\sum_{n=0}^\\infty(-1)^n {1 \\over 2n + 1} \\rgroup = \\underbrace{1 - {1 \\over 3} + {1 \\over 5} - {1 \\over 7} + {1 \\over 9} - \\cdots = {\\pi \\over 4}}_{Leibniz's formula}$$\n",
    "\n",
    "$$=\\int_0^1 (1 - x^2 + x^4 - \\dots)dx  = \\int_0^1 {1 \\over 1 + x^2} dx = tan^{-1}(1) = {\\pi \\over 4}$$\n",
    "\n",
    "$$\\lgroup \\sum_{n=0}^\\infty {1 \\over (n+1)^4} \\rgroup = 1 + {1 \\over 2^4} + {1 \\over 3^4} + {1 \\over 4^4} + {1 \\over 5^4} + \\cdots = {\\pi^4 \\over 90},$$\n",
    "$$\\lgroup \\sum_{n=0}^\\infty (-1)^n {1 \\over (2n+1)^3} \\rgroup = 1 - {1 \\over 3^3} + {1 \\over 5^3} - {1 \\over 7^3} + {1 \\over 9^3} + \\cdots = {\\pi^3 \\over 32},$$\n",
    "\n",
    "###### $$\\pi = \\lim_{N \\rightarrow \\infty} {4 \\over N}\\sum_{n=1}^N \\sum_{d|n} \\chi(d) $$\n",
    "\n",
    "### Riemann zeta function\n",
    "\n",
    "#### $$\\zeta(s) = \\sum_{n=1}^\\infty {1 \\over n^s}$$"
   ]
  },
  {
   "cell_type": "code",
   "execution_count": 1,
   "metadata": {},
   "outputs": [
    {
     "data": {
      "text/plain": [
       "(0.12120633723953622-0.9926273338030622j)"
      ]
     },
     "execution_count": 1,
     "metadata": {},
     "output_type": "execute_result"
    }
   ],
   "source": [
    "import math\n",
    "\n",
    "x = complex(0.0, -2.7j)\n",
    "\n",
    "(1/9) ** (-2.2j)\n"
   ]
  },
  {
   "cell_type": "code",
   "execution_count": 2,
   "metadata": {},
   "outputs": [
    {
     "name": "stdout",
     "output_type": "stream",
     "text": [
      "Total items: 199\n",
      "Result is: 1.6399215460149972\n",
      "Pi is 1.6449340668482264\n"
     ]
    }
   ],
   "source": [
    "import math\n",
    "\n",
    "rslt = 0\n",
    "total_items = 0\n",
    "\n",
    "for i in range(1, 200):\n",
    "    rslt += math.pow(i, -2)\n",
    "    total_items += 1\n",
    "\n",
    "print(\"Total items: {0}\".format(total_items))\n",
    "print(\"Result is: {0}\".format(rslt))\n",
    "print(\"Pi is {0}\".format(math.pow(math.pi, 2)/6))"
   ]
  },
  {
   "cell_type": "code",
   "execution_count": null,
   "metadata": {},
   "outputs": [],
   "source": []
  }
 ],
 "metadata": {
  "kernelspec": {
   "display_name": "Python 3",
   "language": "python",
   "name": "python3"
  },
  "language_info": {
   "codemirror_mode": {
    "name": "ipython",
    "version": 3
   },
   "file_extension": ".py",
   "mimetype": "text/x-python",
   "name": "python",
   "nbconvert_exporter": "python",
   "pygments_lexer": "ipython3",
   "version": "3.7.0"
  }
 },
 "nbformat": 4,
 "nbformat_minor": 2
}
