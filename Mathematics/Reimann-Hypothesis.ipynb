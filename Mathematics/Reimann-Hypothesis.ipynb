{
 "cells": [
  {
   "cell_type": "markdown",
   "metadata": {},
   "source": [
    "## Eulr $\\xi$ function 欧拉$\\xi$公式\n",
    "\n",
    "$\n",
    "\\begin{align}\n",
    "\\xi(s) & = \\sum_{n=1}^\\infty {1 \\over n^s} = {1 \\over 1^s} + {1 \\over 2^s} + {1 \\over 3^s} + {1 \\over 4^s} + \\cdots, \\quad s \\in (1, +\\infty) \\\\\n",
    "& = \\prod_P\\frac{1}{1-\\frac{1}{p^s}} \\\\\n",
    "\\end{align}\n",
    "$"
   ]
  },
  {
   "cell_type": "markdown",
   "metadata": {},
   "source": [
    "## Prime number theorem 素数定理\n",
    "#### 历史\n",
    "\n",
    "$\n",
    "\\begin{align}\n",
    "\\text{欧拉：小于$x$的质数的个数}\\quad & \\pi(x) \\approx \\frac{x}{\\ln x} \\\\\n",
    "\\text{高斯：质数密度}\\quad & \\rho(x) = \\frac{1}{\\ln x} \\\\\n",
    "\\text{勒让德-高斯猜想}\\quad & \\pi(x) = \\int_2^x\\frac{dt}{\\ln t} + C \\\\\n",
    "\\text{科赫提出}\\quad & C \\approx \\sqrt{x}\\ln x \\quad \\text{（如果黎曼猜想能被证实的话）}\n",
    "\\end{align}\n",
    "$\n",
    "\n",
    "#### 维基百科版本\n",
    "\n",
    "对正实数x，定义π(x)为素数计数函数，亦即不大于x的素数个数。数学家找到了一些函数来估计π(x)的增长。以下是第一个这样的估计。\n",
    "\n",
    "$\\quad\\pi(x)\\approx\\frac{x}{\\ln x}$\n",
    "\n",
    "其中 ln x 为 x 的自然对数。上式的意思是当 x 趋近无限，π(x)与x/ln x的比值趋近 1。但这不表示它们的数值随着 x 增大而接近。\n",
    "下面是对π(x)更好的估计：\n",
    "\n",
    "$\n",
    "\\begin{align}\n",
    "\\text{不大于$x$的质数个数}\\quad & \\pi(x) = {\\rm Li}(x) +  \\omicron(xe^{-\\frac{1}{15}\\sqrt{\\ln x}}), \\quad x \\rightarrow \\infty \\\\\n",
    "\\text{这里}\\quad & {\\rm Li}(x) = \\int_2^x\\frac{dt}{\\ln t}\n",
    "\\end{align}\n",
    "$"
   ]
  },
  {
   "cell_type": "markdown",
   "metadata": {},
   "source": [
    "## Reimann $\\zeta$ function 黎曼$\\zeta$函数\n",
    "\n",
    "$\\text{完备化的$\\zeta，即黎曼ξ函数$}\\quad \\xi(s) = \\pi^{-\\frac{s}{2}} \\Gamma\\left(\\frac{s}{2}\\right)\\zeta(s),\\\\\n",
    "\\quad \\text{满足函数方程} \\xi(s) = \\xi(1-s)$\n",
    "\n",
    "$\n",
    "\\begin{align}\n",
    "\\quad\\zeta(1-s) & =2(2\\pi)^{-s}\\Gamma(s)\\cos(\\frac{\\pi s}{2})\\zeta(s) \\\\\n",
    "\\quad\\zeta(s) & =2^s\\pi^{s-1}\\sin(\\frac{\\pi s}{2})\\Gamma(1-s)\\zeta(1-s),\\quad\n",
    "\\Gamma(x)=\\int_0^\\infty t^{x-1}e^{-t} dt\n",
    "\\end{align}\n",
    "$"
   ]
  },
  {
   "cell_type": "markdown",
   "metadata": {},
   "source": [
    "## 最终\n",
    "\n",
    "$\n",
    "\\begin{align}\n",
    "1 \\lt \\rm{Re}(s),\n",
    "\\quad\\zeta(s) = & \\sum_{n=1}^\\infty {1 \\over n^s} \\\\\n",
    "\\\\\n",
    "0 \\lt \\rm{Re}(s) \\lt 1,\n",
    "\\quad\\zeta(s) = & \\frac{1}{1-2^{1-s}} \\sum_{n=1}^\\infty \\frac{(-1)^{n+1}}{n^s} \\\\\n",
    "\\\\\n",
    "\\rm{Re}(s) \\lt 0,\n",
    "\\quad\\zeta(s) = & 2^s\\pi^{s-1}\\sin(\\frac{\\pi s}{2}) \\Gamma(1-s)\\zeta(1-s)\n",
    "\\end{align}\n",
    "$"
   ]
  },
  {
   "cell_type": "code",
   "execution_count": 1,
   "metadata": {},
   "outputs": [],
   "source": [
    "from mpmath import *\n",
    "from sympy import *\n",
    "init_printing()"
   ]
  },
  {
   "cell_type": "code",
   "execution_count": 2,
   "metadata": {},
   "outputs": [
    {
     "name": "stdout",
     "output_type": "stream",
     "text": [
      "ζ((-4.0 + 1.0j)) = (-0.0035398402337797497+0.009750322586678949j)\n",
      "ζ(-2) = 0j\n",
      "ζ(-1) = (-0.08333333333333333+0j)\n",
      "ζ(-0.5) = (-0.20566902008702848+0j)\n",
      "ζ(0) = (-0.5+0j)\n",
      "ζ((0.5+14.1347j)) = (3.1353642212912584e-06-1.9693360462401087e-05j)\n",
      "ζ(1) = (9.463382098941027+0j)\n",
      "ζ(2) = (1.6449340668482264+0j)\n",
      "ζ(3) = (1.2020569031595942+0j)\n"
     ]
    }
   ],
   "source": [
    "# mp.dps = 15 # 默认计算精度为15个10进制数位，可修改\n",
    "k = symbols('k')\n",
    "\n",
    "def ζ(s):\n",
    "    s = mpc(s)\n",
    "    if s.real < 0:\n",
    "        return 2**s*pi**(s-1)*sin(pi*s/2)*gamma(1-s)*ζ(1-s)\n",
    "    elif s.real >= 1:\n",
    "#        return Sum(1/k**s, (k, 1, oo))\n",
    "        return nsum(lambda n: 1/n**s, [1, inf])\n",
    "    else:\n",
    "        return (1/(1-2**(1-s))) * nsum(lambda n: (-1)**(n+1)/n**s, [1, inf])\n",
    "\n",
    "for s in [(-4+j), -2, -1, -0.5, 0, (0.5+14.1347j), 1, 2, 3]:\n",
    "    print(\"ζ({0}) = {1}\".format(s, complex(ζ(s))))"
   ]
  },
  {
   "cell_type": "code",
   "execution_count": 3,
   "metadata": {},
   "outputs": [
    {
     "data": {
      "text/plain": [
       "True"
      ]
     },
     "execution_count": 3,
     "metadata": {},
     "output_type": "execute_result"
    }
   ],
   "source": [
    "# 测试当 s=2 时，欧拉𝜉函数的值是不是等于𝜋^2/6\n",
    "N(pi**2/6) == ζ(2).real"
   ]
  },
  {
   "cell_type": "markdown",
   "metadata": {},
   "source": [
    "#### 用积分形式表达：\n",
    "\n",
    "$\n",
    "\\begin{align}\n",
    "\\text{第一积分表示}\\quad & \\zeta(s) = \\frac{1}{\\Gamma(s)}\\int_0^\\infty\\frac{x^{s-1}}{e^x -1}dx \\\\\n",
    "\\text{第二积分表示}\\quad & \\varphi(s) = \\sum_{n=1}^{\\infty} e^{-\\pi n^2 x} \\\\\n",
    "\\text{第三积分表示}\\quad & \\zeta(s) = \\frac{1}{2\\pi i}\\Gamma(1-s)\\oint_r\\frac{z^{s-1}e^{-z}}{1-{e^z}}dz \\\\\n",
    "\\text{以上，} & \\Gamma(s) = \\int_0^\\infty e^{-x}x^s\\frac{dx}{x} \\quad s \\neq 1, s \\in {\\rm C}\n",
    "\\end{align}\n",
    "$\n"
   ]
  },
  {
   "cell_type": "code",
   "execution_count": 4,
   "metadata": {},
   "outputs": [],
   "source": [
    "'''\n",
    "按第一积分表示，`Γ(s)`中`s`不能是非正实数\n",
    "def ζ_integralexpr1_part(x, s):\n",
    "    return x**(s-1) / (exp(x) - 1)\n",
    "\n",
    "def ζ_integralexpr1(s):\n",
    "    return quad(lambda x: ζ_integralexpr1_part(x, s), [0, inf]) / gamma(s)\n",
    "\n",
    "for s in [1, -2, (0.5+14.1347j), 3]:\n",
    "    print(\"ζ({0}) = {1}\".format(s, zeta_integralexp1(s)))\n",
    "''' and None\n"
   ]
  },
  {
   "cell_type": "markdown",
   "metadata": {},
   "source": [
    "----\n",
    "### 沈晟的版本"
   ]
  },
  {
   "cell_type": "code",
   "execution_count": 5,
   "metadata": {},
   "outputs": [
    {
     "data": {
      "application/javascript": [
       "\n",
       "/* 在Jupyter Notebook中动态载入 require.js 和 jQuery */\n",
       "\n",
       "function injectJavaScript(url) {\n",
       "    var tag = document.createElement('script');\n",
       "    tag.src = url;\n",
       "    tag.type = 'text/javascript';\n",
       "    tag.async = 'true';\n",
       "    var hookTag = document.getElementsByTagName('script')[0];\n",
       "    hookTag.parentNode.insertBefore(tag, hookTag);\n",
       "}\n",
       "\n",
       ";(function() {\n",
       "    injectJavaScript('https://cdnjs.cloudflare.com/ajax/libs/require.js/2.3.6/require.min.js');\n",
       "    injectJavaScript('https://cdnjs.cloudflare.com/ajax/libs/jquery/3.3.1/jquery.min.js');\n",
       "})();"
      ],
      "text/plain": [
       "<IPython.core.display.Javascript object>"
      ]
     },
     "metadata": {},
     "output_type": "display_data"
    }
   ],
   "source": [
    "%%javascript\n",
    "\n",
    "/* 在Jupyter Notebook中动态载入 require.js 和 jQuery */\n",
    "\n",
    "function injectJavaScript(url) {\n",
    "    var tag = document.createElement('script');\n",
    "    tag.src = url;\n",
    "    tag.type = 'text/javascript';\n",
    "    tag.async = 'true';\n",
    "    var hookTag = document.getElementsByTagName('script')[0];\n",
    "    hookTag.parentNode.insertBefore(tag, hookTag);\n",
    "}\n",
    "\n",
    ";(function() {\n",
    "    injectJavaScript('https://cdnjs.cloudflare.com/ajax/libs/require.js/2.3.6/require.min.js');\n",
    "    injectJavaScript('https://cdnjs.cloudflare.com/ajax/libs/jquery/3.3.1/jquery.min.js');\n",
    "})();"
   ]
  },
  {
   "cell_type": "code",
   "execution_count": 6,
   "metadata": {},
   "outputs": [
    {
     "data": {
      "application/javascript": [
       "\n",
       "function zetaComplex(s, n) {\n",
       "    if (math.re(s) > 1) { // 1 < Re(s)\n",
       "        var sum = math.complex(0,0);\n",
       "        for (var i = 1; i <= n; i++) {\n",
       "            sum = math.add(sum, math.divide(1, math.pow(i, s)));\n",
       "        }\n",
       "        return sum;\n",
       "    } else if (math.re(s) > 0) { // 0 < Re(s) < 1\n",
       "        var sum = math.complex(0, 0);\n",
       "        for (var i = 1; i <= n; i++) {\n",
       "            sum = math.add(sum, math.divide(math.pow(-1, i+1), math.pow(i, s)));\n",
       "        }\n",
       "        return math.prod(math.divide(1, math.subtract(1, math.pow(2, math.subtract(1, s)))), sum);\n",
       "    } else { // Re(s) < 0\n",
       "        return math.pow(2, s) * math.pow(math.PI, math.subtract(s, 1))\n",
       "        * math.sin( math.divide(math.PI * s, 2)) * math.gamma(math.subtract(1, s)) \n",
       "        * zetaComplex(math.subtract(1, s), n);\n",
       "    }\n",
       "}\n",
       "\n",
       "require(['https://cdnjs.cloudflare.com/ajax/libs/mathjs/5.2.0/math.min.js'], function(math){\n",
       "    window.math = math;\n",
       "    var input = [1, -2, math.complex(1/2, 14.1347), -3];\n",
       "    $(element).append('<ul>');\n",
       "    input.forEach(function(el) {\n",
       "        $(element).append('<li>' + `zeta(${el}) = ` + zetaComplex(el, 1000) + '</li>');\n",
       "    });\n",
       "    $(element).append('</ul>');\n",
       "});"
      ],
      "text/plain": [
       "<IPython.core.display.Javascript object>"
      ]
     },
     "metadata": {},
     "output_type": "display_data"
    }
   ],
   "source": [
    "%%javascript\n",
    "\n",
    "function zetaComplex(s, n) {\n",
    "    if (math.re(s) > 1) { // 1 < Re(s)\n",
    "        var sum = math.complex(0,0);\n",
    "        for (var i = 1; i <= n; i++) {\n",
    "            sum = math.add(sum, math.divide(1, math.pow(i, s)));\n",
    "        }\n",
    "        return sum;\n",
    "    } else if (math.re(s) > 0) { // 0 < Re(s) < 1\n",
    "        var sum = math.complex(0, 0);\n",
    "        for (var i = 1; i <= n; i++) {\n",
    "            sum = math.add(sum, math.divide(math.pow(-1, i+1), math.pow(i, s)));\n",
    "        }\n",
    "        return math.prod(math.divide(1, math.subtract(1, math.pow(2, math.subtract(1, s)))), sum);\n",
    "    } else { // Re(s) < 0\n",
    "        return math.pow(2, s) * math.pow(math.PI, math.subtract(s, 1))\n",
    "        * math.sin( math.divide(math.PI * s, 2)) * math.gamma(math.subtract(1, s)) \n",
    "        * zetaComplex(math.subtract(1, s), n);\n",
    "    }\n",
    "}\n",
    "\n",
    "require(['https://cdnjs.cloudflare.com/ajax/libs/mathjs/5.2.0/math.min.js'], function(math){\n",
    "    window.math = math;\n",
    "    var input = [1, -2, math.complex(1/2, 14.1347), -3];\n",
    "    $(element).append('<ul>');\n",
    "    input.forEach(function(el) {\n",
    "        $(element).append('<li>' + `zeta(${el}) = ` + zetaComplex(el, 1000) + '</li>');\n",
    "    });\n",
    "    $(element).append('</ul>');\n",
    "});"
   ]
  },
  {
   "cell_type": "markdown",
   "metadata": {},
   "source": [
    "----\n",
    "\n",
    "### 以下是草稿代码"
   ]
  },
  {
   "cell_type": "code",
   "execution_count": 7,
   "metadata": {},
   "outputs": [
    {
     "data": {
      "text/plain": [
       "(9.807205748291365-4.78489999703766j)"
      ]
     },
     "execution_count": 7,
     "metadata": {},
     "output_type": "execute_result"
    }
   ],
   "source": [
    "def test_zeta(s, n):\n",
    "    if isinstance(s, int):\n",
    "        s = (s+0j)\n",
    "    y = 0\n",
    "    for i in range(1, n+1):\n",
    "        y += i ** -s\n",
    "    return y\n",
    "\n",
    "test_zeta((0.5+3j), 1000)"
   ]
  }
 ],
 "metadata": {
  "kernelspec": {
   "display_name": "Python 3",
   "language": "python",
   "name": "python3"
  },
  "language_info": {
   "codemirror_mode": {
    "name": "ipython",
    "version": 3
   },
   "file_extension": ".py",
   "mimetype": "text/x-python",
   "name": "python",
   "nbconvert_exporter": "python",
   "pygments_lexer": "ipython3",
   "version": "3.7.0"
  }
 },
 "nbformat": 4,
 "nbformat_minor": 2
}
